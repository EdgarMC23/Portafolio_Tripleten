{
 "cells": [
  {
   "cell_type": "markdown",
   "metadata": {},
   "source": [
    "<b>¡Hola Edgar!</b>\n",
    "\n",
    "Mi nombre es Alejandro Abia y tengo el gusto de revisar tu proyecto.\n",
    "\n",
    "A continuación, encontrarás mis comentarios en celdas pintadas de tres colores (verde, amarillo y rojo), a manera de semáforo. Por favor, <b>no las borres ni muevas de posición</b> mientras dure el proceso de revisión.\n",
    "\n",
    "<div class=\"alert alert-block alert-success\">\n",
    "<b>Éxito</b> <a class=\"tocSkip\"></a>\n",
    "En celdas verdes encontrarás comentarios en relación a tus aciertos y fortalezas.\n",
    "</div>\n",
    "<div class=\"alert alert-block alert-warning\">\n",
    "<b>Atención</b> <a class=\"tocSkip\"></a>\n",
    "Utilizaré el color amarillo para llamar tu atención, expresar algo importante o compartirte alguna idea de valor.\n",
    "</div>\n",
    "<div class=\"alert alert-block alert-danger\">\n",
    "<b>A resolver</b> <a class=\"tocSkip\"></a>\n",
    "En rojo emitiré aquellos puntos que podrían impedir que el proyecto se ejecute correctamente. No son errores, sino oportunidades importantes de mejora.\n",
    "</div>\n",
    "<div class=\"alert alert-block alert-info\">\n",
    "<b>Comentario estudiante</b> <a class=\"tocSkip\"></a>\n",
    "Si durante la revisión deseas dejarme algún comentario, por favor utiliza celdas azules como esta.\n",
    "</div>\n",
    "Tu proyecto será considerado aprobado cuando las observaciones en rojo hayan sido atendidas.  \n",
    "¡Empecemos!"
   ]
  },
  {
   "cell_type": "code",
   "execution_count": 1,
   "metadata": {},
   "outputs": [],
   "source": [
    "# Importacion de librerias necesarias para el proyecto\n",
    "import pandas as pd\n",
    "import matplotlib.pyplot as plt\n",
    "import seaborn as sns\n",
    "import numpy as np\n",
    "from scipy import stats as st"
   ]
  },
  {
   "cell_type": "markdown",
   "metadata": {},
   "source": [
    "<div class=\"alert alert-block alert-success\">\n",
    "<b>Acierto o fortaleza</b> <a class=\"tocSkip\"></a><br>\n",
    "En la celda [1], organizaste bien las importaciones y usaste alias estándar (<code>pd</code>, <code>plt</code>, <code>sns</code>, <code>np</code>, <code>st</code>). Esto facilita la lectura y evita confusiones. Ese orden al inicio ayuda a cualquier persona a correr el notebook sin adivinar dependencias. Mantén esta práctica: suma claridad y reduce errores por nombres inconsistentes.\n",
    "</div>"
   ]
  },
  {
   "cell_type": "markdown",
   "metadata": {},
   "source": [
    "# Limpieza y preparacion de datos para el análisis"
   ]
  },
  {
   "cell_type": "code",
   "execution_count": 2,
   "metadata": {},
   "outputs": [],
   "source": [
    "hipotesis= pd.read_csv(\"/datasets/hypotheses_us.csv\", sep=\";\")\n",
    "pedidos= pd.read_csv(\"/datasets/orders_us.csv\")\n",
    "visitas= pd.read_csv(\"/datasets/visits_us.csv\")\n"
   ]
  },
  {
   "cell_type": "markdown",
   "metadata": {},
   "source": [
    "<div class=\"alert alert-block alert-success\">\n",
    "<b>Acierto o fortaleza</b> <a class=\"tocSkip\"></a><br>\n",
    "En la celda [2], cargaste archivos con el separador correcto para <code>hypotheses_us.csv</code> y dejaste los demás con el valor por defecto. Esta precisión muestra que verificaste el formato de cada fuente antes de leerla. Esto evita columnas pegadas o tipos mal detectados y garantiza que los datos lleguen limpios al análisis.\n",
    "</div>"
   ]
  },
  {
   "cell_type": "code",
   "execution_count": 3,
   "metadata": {},
   "outputs": [
    {
     "name": "stdout",
     "output_type": "stream",
     "text": [
      "<class 'pandas.core.frame.DataFrame'>\n",
      "RangeIndex: 9 entries, 0 to 8\n",
      "Data columns (total 5 columns):\n",
      " #   Column      Non-Null Count  Dtype \n",
      "---  ------      --------------  ----- \n",
      " 0   Hypothesis  9 non-null      object\n",
      " 1   Reach       9 non-null      int64 \n",
      " 2   Impact      9 non-null      int64 \n",
      " 3   Confidence  9 non-null      int64 \n",
      " 4   Effort      9 non-null      int64 \n",
      "dtypes: int64(4), object(1)\n",
      "memory usage: 488.0+ bytes\n"
     ]
    }
   ],
   "source": [
    "hipotesis.info()"
   ]
  },
  {
   "cell_type": "code",
   "execution_count": 4,
   "metadata": {},
   "outputs": [
    {
     "name": "stdout",
     "output_type": "stream",
     "text": [
      "<class 'pandas.core.frame.DataFrame'>\n",
      "RangeIndex: 1197 entries, 0 to 1196\n",
      "Data columns (total 5 columns):\n",
      " #   Column         Non-Null Count  Dtype         \n",
      "---  ------         --------------  -----         \n",
      " 0   transactionId  1197 non-null   object        \n",
      " 1   visitorId      1197 non-null   object        \n",
      " 2   date           1197 non-null   datetime64[ns]\n",
      " 3   revenue        1197 non-null   float64       \n",
      " 4   group          1197 non-null   object        \n",
      "dtypes: datetime64[ns](1), float64(1), object(3)\n",
      "memory usage: 46.9+ KB\n"
     ]
    }
   ],
   "source": [
    "pedidos['transactionId']=pedidos['transactionId'].astype(str)\n",
    "pedidos['visitorId']=pedidos['visitorId'].astype(str)\n",
    "pedidos['date']=pd.to_datetime(pedidos['date'])\n",
    "pedidos.info()"
   ]
  },
  {
   "cell_type": "markdown",
   "metadata": {},
   "source": [
    "<div class=\"alert alert-block alert-success\">\n",
    "<b>Acierto o fortaleza</b> <a class=\"tocSkip\"></a><br>\n",
    "Buena decisión en la celda [4] al convertir <code>transactionId</code> y <code>visitorId</code> a texto y <code>date</code> a fecha. Esto previene errores al agrupar/contar por identificadores (que no deben sumarse) y permite operaciones temporales sólidas. Con <code>info()</code> confirmaste el cambio, lo cual cierra el ciclo de validación de tipos de manera ordenada.\n",
    "</div>"
   ]
  },
  {
   "cell_type": "code",
   "execution_count": 5,
   "metadata": {},
   "outputs": [
    {
     "name": "stdout",
     "output_type": "stream",
     "text": [
      "Visitantes en ambos grupos: 58\n"
     ]
    }
   ],
   "source": [
    "# Encontrar visitantes que están en ambos grupos\n",
    "visitantes_por_grupo = pedidos.groupby('visitorId')['group'].nunique()\n",
    "visitantes_problematicos = visitantes_por_grupo[visitantes_por_grupo > 1].index\n",
    "print(f\"Visitantes en ambos grupos: {len(visitantes_problematicos)}\")"
   ]
  },
  {
   "cell_type": "code",
   "execution_count": 6,
   "metadata": {},
   "outputs": [
    {
     "name": "stdout",
     "output_type": "stream",
     "text": [
      "Se eliminaron 58 visitantes problemáticos\n"
     ]
    }
   ],
   "source": [
    "# Eliminar visitantes problemáticos\n",
    "if len(visitantes_problematicos) > 0:\n",
    "    pedidos = pedidos[~pedidos['visitorId'].isin(visitantes_problematicos)]\n",
    "    print(f\"Se eliminaron {len(visitantes_problematicos)} visitantes problemáticos\")"
   ]
  },
  {
   "cell_type": "markdown",
   "metadata": {},
   "source": [
    "<div class=\"alert alert-block alert-success\">\n",
    "<b>Acierto o fortaleza</b> <a class=\"tocSkip\"></a><br>\n",
    "En las celdas [5]-[6] detectaste y excluiste visitantes presentes en ambos grupos. Esta limpieza es clave para un test A/B, porque evita contaminación de grupos y sesgos en las métricas. Además, reportaste cuántos visitantes se eliminaron, lo que aporta transparencia y reproducibilidad al proceso.\n",
    "</div>"
   ]
  },
  {
   "cell_type": "code",
   "execution_count": 7,
   "metadata": {},
   "outputs": [
    {
     "name": "stdout",
     "output_type": "stream",
     "text": [
      "<class 'pandas.core.frame.DataFrame'>\n",
      "Int64Index: 1016 entries, 0 to 1196\n",
      "Data columns (total 5 columns):\n",
      " #   Column         Non-Null Count  Dtype         \n",
      "---  ------         --------------  -----         \n",
      " 0   transactionId  1016 non-null   object        \n",
      " 1   visitorId      1016 non-null   object        \n",
      " 2   date           1016 non-null   datetime64[ns]\n",
      " 3   revenue        1016 non-null   float64       \n",
      " 4   group          1016 non-null   object        \n",
      "dtypes: datetime64[ns](1), float64(1), object(3)\n",
      "memory usage: 47.6+ KB\n"
     ]
    }
   ],
   "source": [
    "pedidos.info()"
   ]
  },
  {
   "cell_type": "code",
   "execution_count": 8,
   "metadata": {},
   "outputs": [
    {
     "name": "stdout",
     "output_type": "stream",
     "text": [
      "<class 'pandas.core.frame.DataFrame'>\n",
      "RangeIndex: 62 entries, 0 to 61\n",
      "Data columns (total 3 columns):\n",
      " #   Column  Non-Null Count  Dtype         \n",
      "---  ------  --------------  -----         \n",
      " 0   date    62 non-null     datetime64[ns]\n",
      " 1   group   62 non-null     object        \n",
      " 2   visits  62 non-null     int64         \n",
      "dtypes: datetime64[ns](1), int64(1), object(1)\n",
      "memory usage: 1.6+ KB\n"
     ]
    }
   ],
   "source": [
    "visitas['date']=pd.to_datetime(visitas['date'])\n",
    "visitas.info()"
   ]
  },
  {
   "cell_type": "markdown",
   "metadata": {},
   "source": [
    "<div class=\"alert alert-block alert-success\">\n",
    "<b>Acierto o fortaleza</b> <a class=\"tocSkip\"></a><br>\n",
    "En la celda [8], parseaste la fecha en <code>visitas</code> y verificaste con <code>info()</code>. Esto te habilita a hacer uniones y gráficos temporales sin fricciones. Es una de esas pequeñas cosas que evitan muchos dolores de cabeza más adelante. Bien visto.\n",
    "</div>"
   ]
  },
  {
   "cell_type": "markdown",
   "metadata": {},
   "source": [
    "# Parte 1. Priorizar hipótesis"
   ]
  },
  {
   "cell_type": "code",
   "execution_count": 9,
   "metadata": {},
   "outputs": [
    {
     "data": {
      "text/html": [
       "<div>\n",
       "<style scoped>\n",
       "    .dataframe tbody tr th:only-of-type {\n",
       "        vertical-align: middle;\n",
       "    }\n",
       "\n",
       "    .dataframe tbody tr th {\n",
       "        vertical-align: top;\n",
       "    }\n",
       "\n",
       "    .dataframe thead th {\n",
       "        text-align: right;\n",
       "    }\n",
       "</style>\n",
       "<table border=\"1\" class=\"dataframe\">\n",
       "  <thead>\n",
       "    <tr style=\"text-align: right;\">\n",
       "      <th></th>\n",
       "      <th>Hypothesis</th>\n",
       "      <th>Reach</th>\n",
       "      <th>Impact</th>\n",
       "      <th>Confidence</th>\n",
       "      <th>Effort</th>\n",
       "    </tr>\n",
       "  </thead>\n",
       "  <tbody>\n",
       "    <tr>\n",
       "      <th>0</th>\n",
       "      <td>Add two new channels for attracting traffic. T...</td>\n",
       "      <td>3</td>\n",
       "      <td>10</td>\n",
       "      <td>8</td>\n",
       "      <td>6</td>\n",
       "    </tr>\n",
       "    <tr>\n",
       "      <th>1</th>\n",
       "      <td>Launch your own delivery service. This will sh...</td>\n",
       "      <td>2</td>\n",
       "      <td>5</td>\n",
       "      <td>4</td>\n",
       "      <td>10</td>\n",
       "    </tr>\n",
       "    <tr>\n",
       "      <th>2</th>\n",
       "      <td>Add product recommendation blocks to the store...</td>\n",
       "      <td>8</td>\n",
       "      <td>3</td>\n",
       "      <td>7</td>\n",
       "      <td>3</td>\n",
       "    </tr>\n",
       "    <tr>\n",
       "      <th>3</th>\n",
       "      <td>Change the category structure. This will incre...</td>\n",
       "      <td>8</td>\n",
       "      <td>3</td>\n",
       "      <td>3</td>\n",
       "      <td>8</td>\n",
       "    </tr>\n",
       "    <tr>\n",
       "      <th>4</th>\n",
       "      <td>Change the background color on the main page. ...</td>\n",
       "      <td>3</td>\n",
       "      <td>1</td>\n",
       "      <td>1</td>\n",
       "      <td>1</td>\n",
       "    </tr>\n",
       "    <tr>\n",
       "      <th>5</th>\n",
       "      <td>Add a customer review page. This will increase...</td>\n",
       "      <td>3</td>\n",
       "      <td>2</td>\n",
       "      <td>2</td>\n",
       "      <td>3</td>\n",
       "    </tr>\n",
       "    <tr>\n",
       "      <th>6</th>\n",
       "      <td>Show banners with current offers and sales on ...</td>\n",
       "      <td>5</td>\n",
       "      <td>3</td>\n",
       "      <td>8</td>\n",
       "      <td>3</td>\n",
       "    </tr>\n",
       "    <tr>\n",
       "      <th>7</th>\n",
       "      <td>Add a subscription form to all the main pages....</td>\n",
       "      <td>10</td>\n",
       "      <td>7</td>\n",
       "      <td>8</td>\n",
       "      <td>5</td>\n",
       "    </tr>\n",
       "    <tr>\n",
       "      <th>8</th>\n",
       "      <td>Launch a promotion that gives users discounts ...</td>\n",
       "      <td>1</td>\n",
       "      <td>9</td>\n",
       "      <td>9</td>\n",
       "      <td>5</td>\n",
       "    </tr>\n",
       "  </tbody>\n",
       "</table>\n",
       "</div>"
      ],
      "text/plain": [
       "                                          Hypothesis  Reach  Impact  \\\n",
       "0  Add two new channels for attracting traffic. T...      3      10   \n",
       "1  Launch your own delivery service. This will sh...      2       5   \n",
       "2  Add product recommendation blocks to the store...      8       3   \n",
       "3  Change the category structure. This will incre...      8       3   \n",
       "4  Change the background color on the main page. ...      3       1   \n",
       "5  Add a customer review page. This will increase...      3       2   \n",
       "6  Show banners with current offers and sales on ...      5       3   \n",
       "7  Add a subscription form to all the main pages....     10       7   \n",
       "8  Launch a promotion that gives users discounts ...      1       9   \n",
       "\n",
       "   Confidence  Effort  \n",
       "0           8       6  \n",
       "1           4      10  \n",
       "2           7       3  \n",
       "3           3       8  \n",
       "4           1       1  \n",
       "5           2       3  \n",
       "6           8       3  \n",
       "7           8       5  \n",
       "8           9       5  "
      ]
     },
     "execution_count": 9,
     "metadata": {},
     "output_type": "execute_result"
    }
   ],
   "source": [
    "hipotesis"
   ]
  },
  {
   "cell_type": "code",
   "execution_count": 10,
   "metadata": {},
   "outputs": [
    {
     "name": "stdout",
     "output_type": "stream",
     "text": [
      "                                          Hypothesis        ICE\n",
      "8  Launch a promotion that gives users discounts ...  16.200000\n",
      "0  Add two new channels for attracting traffic. T...  13.333333\n",
      "7  Add a subscription form to all the main pages....  11.200000\n",
      "6  Show banners with current offers and sales on ...   8.000000\n",
      "2  Add product recommendation blocks to the store...   7.000000\n",
      "1  Launch your own delivery service. This will sh...   2.000000\n",
      "5  Add a customer review page. This will increase...   1.333333\n",
      "3  Change the category structure. This will incre...   1.125000\n",
      "4  Change the background color on the main page. ...   1.000000\n"
     ]
    }
   ],
   "source": [
    "# Se calculo el framework ICE para cada hipotesis\n",
    "hipotesis['ICE']=(hipotesis['Impact']*hipotesis['Confidence'])/hipotesis['Effort']\n",
    "\n",
    "print(hipotesis[['Hypothesis','ICE']].sort_values(by='ICE',ascending=False))"
   ]
  },
  {
   "cell_type": "code",
   "execution_count": 11,
   "metadata": {},
   "outputs": [
    {
     "name": "stdout",
     "output_type": "stream",
     "text": [
      "                                          Hypothesis   RICE\n",
      "7  Add a subscription form to all the main pages....  112.0\n",
      "2  Add product recommendation blocks to the store...   56.0\n",
      "0  Add two new channels for attracting traffic. T...   40.0\n",
      "6  Show banners with current offers and sales on ...   40.0\n",
      "8  Launch a promotion that gives users discounts ...   16.2\n",
      "3  Change the category structure. This will incre...    9.0\n",
      "1  Launch your own delivery service. This will sh...    4.0\n",
      "5  Add a customer review page. This will increase...    4.0\n",
      "4  Change the background color on the main page. ...    3.0\n"
     ]
    }
   ],
   "source": [
    "# Se calculo el framework RICE para cada hipotesis\n",
    "hipotesis['RICE']=(hipotesis['Reach']*hipotesis['Impact']*hipotesis['Confidence'])/hipotesis['Effort']\n",
    "\n",
    "print(hipotesis[['Hypothesis','RICE']].sort_values(by='RICE',ascending=False))"
   ]
  },
  {
   "cell_type": "code",
   "execution_count": 12,
   "metadata": {},
   "outputs": [
    {
     "name": "stdout",
     "output_type": "stream",
     "text": [
      "                                          Hypothesis        ICE   RICE\n",
      "7  Add a subscription form to all the main pages....  11.200000  112.0\n",
      "2  Add product recommendation blocks to the store...   7.000000   56.0\n",
      "0  Add two new channels for attracting traffic. T...  13.333333   40.0\n",
      "6  Show banners with current offers and sales on ...   8.000000   40.0\n",
      "8  Launch a promotion that gives users discounts ...  16.200000   16.2\n",
      "3  Change the category structure. This will incre...   1.125000    9.0\n",
      "1  Launch your own delivery service. This will sh...   2.000000    4.0\n",
      "5  Add a customer review page. This will increase...   1.333333    4.0\n",
      "4  Change the background color on the main page. ...   1.000000    3.0\n"
     ]
    }
   ],
   "source": [
    "print(hipotesis[['Hypothesis','ICE','RICE']].sort_values(by='RICE',ascending=False))"
   ]
  },
  {
   "cell_type": "markdown",
   "metadata": {},
   "source": [
    "<div class=\"alert alert-block alert-warning\">\n",
    "<b>Oportunidad de mejora</b> <a class=\"tocSkip\"></a><br>\n",
    "En la comparación ICE vs RICE (celdas [10]-[12]) la conclusión dice que “RICE es más confiable” por incluir Reach. Es una buena intuición, pero conviene matizar: RICE es más adecuado cuando el alcance (Reach) es un factor crítico del negocio; si Reach es incierto o estimado con ruido, puede distorsionar la priorización. Una alternativa práctica es analizar ambos rankings y justificar con contexto (p. ej., madurez del canal, facilidad de implementación) por qué elegir uno. Así, la priorización queda mejor respaldada por negocio y datos.\n",
    "</div>"
   ]
  },
  {
   "cell_type": "markdown",
   "metadata": {},
   "source": [
    "**CONCLUSION**\n",
    "\n",
    "Podemos observar que hay mucha diferencia entre cada framework para algunas hipotesis, esto se debe que para el framework RICE se considera el parametro Reach. Para las hipotesis que no cambio mucho su puntaje, su valor de Reach es bajo y para los que si cambio mucho, su valor de Reach fue alto.\n",
    "\n",
    "El framework RICE es mas confiable ya que considera todos los parametros del ICE y ademas el parametro Reach."
   ]
  },
  {
   "cell_type": "markdown",
   "metadata": {},
   "source": [
    "# Parte 2. Análisis del test A/B"
   ]
  },
  {
   "cell_type": "code",
   "execution_count": 13,
   "metadata": {},
   "outputs": [
    {
     "data": {
      "text/html": [
       "<div>\n",
       "<style scoped>\n",
       "    .dataframe tbody tr th:only-of-type {\n",
       "        vertical-align: middle;\n",
       "    }\n",
       "\n",
       "    .dataframe tbody tr th {\n",
       "        vertical-align: top;\n",
       "    }\n",
       "\n",
       "    .dataframe thead th {\n",
       "        text-align: right;\n",
       "    }\n",
       "</style>\n",
       "<table border=\"1\" class=\"dataframe\">\n",
       "  <thead>\n",
       "    <tr style=\"text-align: right;\">\n",
       "      <th></th>\n",
       "      <th>transactionId</th>\n",
       "      <th>visitorId</th>\n",
       "      <th>date</th>\n",
       "      <th>revenue</th>\n",
       "      <th>group</th>\n",
       "    </tr>\n",
       "  </thead>\n",
       "  <tbody>\n",
       "    <tr>\n",
       "      <th>0</th>\n",
       "      <td>3667963787</td>\n",
       "      <td>3312258926</td>\n",
       "      <td>2019-08-15</td>\n",
       "      <td>30.4</td>\n",
       "      <td>B</td>\n",
       "    </tr>\n",
       "    <tr>\n",
       "      <th>1</th>\n",
       "      <td>2804400009</td>\n",
       "      <td>3642806036</td>\n",
       "      <td>2019-08-15</td>\n",
       "      <td>15.2</td>\n",
       "      <td>B</td>\n",
       "    </tr>\n",
       "    <tr>\n",
       "      <th>3</th>\n",
       "      <td>3797467345</td>\n",
       "      <td>1196621759</td>\n",
       "      <td>2019-08-15</td>\n",
       "      <td>155.1</td>\n",
       "      <td>B</td>\n",
       "    </tr>\n",
       "    <tr>\n",
       "      <th>4</th>\n",
       "      <td>2282983706</td>\n",
       "      <td>2322279887</td>\n",
       "      <td>2019-08-15</td>\n",
       "      <td>40.5</td>\n",
       "      <td>B</td>\n",
       "    </tr>\n",
       "    <tr>\n",
       "      <th>5</th>\n",
       "      <td>182168103</td>\n",
       "      <td>935554773</td>\n",
       "      <td>2019-08-15</td>\n",
       "      <td>35.0</td>\n",
       "      <td>B</td>\n",
       "    </tr>\n",
       "    <tr>\n",
       "      <th>...</th>\n",
       "      <td>...</td>\n",
       "      <td>...</td>\n",
       "      <td>...</td>\n",
       "      <td>...</td>\n",
       "      <td>...</td>\n",
       "    </tr>\n",
       "    <tr>\n",
       "      <th>1191</th>\n",
       "      <td>3592955527</td>\n",
       "      <td>608641596</td>\n",
       "      <td>2019-08-14</td>\n",
       "      <td>255.7</td>\n",
       "      <td>B</td>\n",
       "    </tr>\n",
       "    <tr>\n",
       "      <th>1192</th>\n",
       "      <td>2662137336</td>\n",
       "      <td>3733762160</td>\n",
       "      <td>2019-08-14</td>\n",
       "      <td>100.8</td>\n",
       "      <td>B</td>\n",
       "    </tr>\n",
       "    <tr>\n",
       "      <th>1193</th>\n",
       "      <td>2203539145</td>\n",
       "      <td>370388673</td>\n",
       "      <td>2019-08-14</td>\n",
       "      <td>50.1</td>\n",
       "      <td>A</td>\n",
       "    </tr>\n",
       "    <tr>\n",
       "      <th>1194</th>\n",
       "      <td>1807773912</td>\n",
       "      <td>573423106</td>\n",
       "      <td>2019-08-14</td>\n",
       "      <td>165.3</td>\n",
       "      <td>A</td>\n",
       "    </tr>\n",
       "    <tr>\n",
       "      <th>1196</th>\n",
       "      <td>3936777065</td>\n",
       "      <td>2108080724</td>\n",
       "      <td>2019-08-15</td>\n",
       "      <td>3120.1</td>\n",
       "      <td>B</td>\n",
       "    </tr>\n",
       "  </tbody>\n",
       "</table>\n",
       "<p>1016 rows × 5 columns</p>\n",
       "</div>"
      ],
      "text/plain": [
       "     transactionId   visitorId       date  revenue group\n",
       "0       3667963787  3312258926 2019-08-15     30.4     B\n",
       "1       2804400009  3642806036 2019-08-15     15.2     B\n",
       "3       3797467345  1196621759 2019-08-15    155.1     B\n",
       "4       2282983706  2322279887 2019-08-15     40.5     B\n",
       "5        182168103   935554773 2019-08-15     35.0     B\n",
       "...            ...         ...        ...      ...   ...\n",
       "1191    3592955527   608641596 2019-08-14    255.7     B\n",
       "1192    2662137336  3733762160 2019-08-14    100.8     B\n",
       "1193    2203539145   370388673 2019-08-14     50.1     A\n",
       "1194    1807773912   573423106 2019-08-14    165.3     A\n",
       "1196    3936777065  2108080724 2019-08-15   3120.1     B\n",
       "\n",
       "[1016 rows x 5 columns]"
      ]
     },
     "execution_count": 13,
     "metadata": {},
     "output_type": "execute_result"
    }
   ],
   "source": [
    "pedidos"
   ]
  },
  {
   "cell_type": "markdown",
   "metadata": {},
   "source": [
    "<div class=\"alert alert-block alert-success\">\n",
    "<b>Acierto o fortaleza</b> <a class=\"tocSkip\"></a><br>\n",
    "La exploración directa de <code>pedidos</code> y <code>visitas</code> en las celdas [13]-[14] ayuda a validar que las transformaciones previas se reflejen en las tablas. Es un paso simple, pero muy eficiente para detectar valores que “no cuadran” antes de extraer métricas. Buen hábito de inspección rápida.\n",
    "</div>"
   ]
  },
  {
   "cell_type": "code",
   "execution_count": 14,
   "metadata": {},
   "outputs": [
    {
     "data": {
      "text/html": [
       "<div>\n",
       "<style scoped>\n",
       "    .dataframe tbody tr th:only-of-type {\n",
       "        vertical-align: middle;\n",
       "    }\n",
       "\n",
       "    .dataframe tbody tr th {\n",
       "        vertical-align: top;\n",
       "    }\n",
       "\n",
       "    .dataframe thead th {\n",
       "        text-align: right;\n",
       "    }\n",
       "</style>\n",
       "<table border=\"1\" class=\"dataframe\">\n",
       "  <thead>\n",
       "    <tr style=\"text-align: right;\">\n",
       "      <th></th>\n",
       "      <th>date</th>\n",
       "      <th>group</th>\n",
       "      <th>visits</th>\n",
       "    </tr>\n",
       "  </thead>\n",
       "  <tbody>\n",
       "    <tr>\n",
       "      <th>0</th>\n",
       "      <td>2019-08-01</td>\n",
       "      <td>A</td>\n",
       "      <td>719</td>\n",
       "    </tr>\n",
       "    <tr>\n",
       "      <th>1</th>\n",
       "      <td>2019-08-02</td>\n",
       "      <td>A</td>\n",
       "      <td>619</td>\n",
       "    </tr>\n",
       "    <tr>\n",
       "      <th>2</th>\n",
       "      <td>2019-08-03</td>\n",
       "      <td>A</td>\n",
       "      <td>507</td>\n",
       "    </tr>\n",
       "    <tr>\n",
       "      <th>3</th>\n",
       "      <td>2019-08-04</td>\n",
       "      <td>A</td>\n",
       "      <td>717</td>\n",
       "    </tr>\n",
       "    <tr>\n",
       "      <th>4</th>\n",
       "      <td>2019-08-05</td>\n",
       "      <td>A</td>\n",
       "      <td>756</td>\n",
       "    </tr>\n",
       "    <tr>\n",
       "      <th>...</th>\n",
       "      <td>...</td>\n",
       "      <td>...</td>\n",
       "      <td>...</td>\n",
       "    </tr>\n",
       "    <tr>\n",
       "      <th>57</th>\n",
       "      <td>2019-08-27</td>\n",
       "      <td>B</td>\n",
       "      <td>720</td>\n",
       "    </tr>\n",
       "    <tr>\n",
       "      <th>58</th>\n",
       "      <td>2019-08-28</td>\n",
       "      <td>B</td>\n",
       "      <td>654</td>\n",
       "    </tr>\n",
       "    <tr>\n",
       "      <th>59</th>\n",
       "      <td>2019-08-29</td>\n",
       "      <td>B</td>\n",
       "      <td>531</td>\n",
       "    </tr>\n",
       "    <tr>\n",
       "      <th>60</th>\n",
       "      <td>2019-08-30</td>\n",
       "      <td>B</td>\n",
       "      <td>490</td>\n",
       "    </tr>\n",
       "    <tr>\n",
       "      <th>61</th>\n",
       "      <td>2019-08-31</td>\n",
       "      <td>B</td>\n",
       "      <td>718</td>\n",
       "    </tr>\n",
       "  </tbody>\n",
       "</table>\n",
       "<p>62 rows × 3 columns</p>\n",
       "</div>"
      ],
      "text/plain": [
       "         date group  visits\n",
       "0  2019-08-01     A     719\n",
       "1  2019-08-02     A     619\n",
       "2  2019-08-03     A     507\n",
       "3  2019-08-04     A     717\n",
       "4  2019-08-05     A     756\n",
       "..        ...   ...     ...\n",
       "57 2019-08-27     B     720\n",
       "58 2019-08-28     B     654\n",
       "59 2019-08-29     B     531\n",
       "60 2019-08-30     B     490\n",
       "61 2019-08-31     B     718\n",
       "\n",
       "[62 rows x 3 columns]"
      ]
     },
     "execution_count": 14,
     "metadata": {},
     "output_type": "execute_result"
    }
   ],
   "source": [
    "visitas"
   ]
  },
  {
   "cell_type": "markdown",
   "metadata": {},
   "source": [
    "**1. Representa gráficamente el ingreso acumulado por grupo.**"
   ]
  },
  {
   "cell_type": "code",
   "execution_count": 15,
   "metadata": {},
   "outputs": [
    {
     "data": {
      "image/png": "[encoded data removed]",
      "text/plain": [
       "<Figure size 640x480 with 1 Axes>"
      ]
     },
     "metadata": {},
     "output_type": "display_data"
    }
   ],
   "source": [
    "pedidos.groupby('group').agg({'revenue': 'sum'}).plot(kind='bar', title='Grafica #1')\n",
    "plt.show()"
   ]
  },
  {
   "cell_type": "markdown",
   "metadata": {},
   "source": [
    "\n",
    "**Conclusion:**\n",
    "\n",
    "Se pude observar en el grafico que hay un aumento de ingresos, por lo que se puede decir hasta el momento que la prueba A/B si funciono\n"
   ]
  },
  {
   "cell_type": "markdown",
   "metadata": {},
   "source": [
    "**2. Representa gráficamente el tamaño de pedido promedio acumulado por grupo.**"
   ]
  },
  {
   "cell_type": "code",
   "execution_count": 16,
   "metadata": {},
   "outputs": [
    {
     "data": {
      "image/png": "[encoded data removed]",
      "text/plain": [
       "<Figure size 640x480 with 1 Axes>"
      ]
     },
     "metadata": {},
     "output_type": "display_data"
    }
   ],
   "source": [
    "pedidos.groupby('group').agg({'revenue': 'mean'}).plot(kind='bar', title='Grafica #2')\n",
    "plt.show()"
   ]
  },
  {
   "cell_type": "markdown",
   "metadata": {},
   "source": [
    "\n",
    "**Conclusion:**\n",
    "\n",
    "Mismo caso que la grafica #1, hubo un aumento en el tamaño de pedido promedio, por lo que se ve la prueba va en buen camino.\n",
    "\n"
   ]
  },
  {
   "cell_type": "markdown",
   "metadata": {},
   "source": [
    "**3. Representa gráficamente la diferencia relativa en el tamaño de pedido promedio acumulado para el grupo B en comparación con el grupo A.**"
   ]
  },
  {
   "cell_type": "code",
   "execution_count": 17,
   "metadata": {},
   "outputs": [
    {
     "data": {
      "image/png": "[encoded data removed]",
      "text/plain": [
       "<Figure size 640x480 with 1 Axes>"
      ]
     },
     "metadata": {},
     "output_type": "display_data"
    }
   ],
   "source": [
    "tamaño_promedio = pedidos.groupby('group')['revenue'].mean()\n",
    "\n",
    "diferencia_relativa = (tamaño_promedio['B'] - tamaño_promedio['A']) / tamaño_promedio['A'] * 100\n",
    "\n",
    "plt.bar(['Diferencia B vs A'], [diferencia_relativa])\n",
    "plt.title('Diferencia relativa: Grupo B vs Grupo A')\n",
    "plt.ylabel('Diferencia porcentual (%)')\n",
    "plt.axhline(y=0, color='black', linestyle='-')\n",
    "plt.ylim([-5, 30])\n",
    "plt.xlim([-1,1])\n",
    "plt.show()"
   ]
  },
  {
   "cell_type": "markdown",
   "metadata": {},
   "source": [
    "<div class=\"alert alert-block alert-warning\">\n",
    "<b>Oportunidad de mejora</b> <a class=\"tocSkip\"></a><br>\n",
    "En la celda [17], la “diferencia relativa acumulada” se calculó como una sola barra a partir de medias globales. Para responder a la consigna, conviene calcular la diferencia relativa a lo largo del tiempo sobre promedios acumulados diarios: <code>(AOV_B_cum - AOV_A_cum)/AOV_A_cum</code>. Eso permite ver si la ventaja de B es consistente o depende de algunos días. Además, ajustar el eje Y a los valores reales evita cortes artificiales y mejora la lectura.\n",
    "</div>"
   ]
  },
  {
   "cell_type": "markdown",
   "metadata": {},
   "source": [
    "\n",
    "\n",
    "**Conclusion:**\n",
    "\n",
    "Como se puede ver en la grafica anterior la diferencia entre el grupo A y el grupo B es mas de 25% (para ser exactos 27.8%), todavia falta comprobar la hipotesis si esta diferencia es realmente significativa para aprobarla como exito.\n",
    "\n"
   ]
  },
  {
   "cell_type": "markdown",
   "metadata": {},
   "source": [
    "**4. Calcula la tasa de conversión de cada grupo como la relación entre los pedidos y el número de visitas de cada día. Representa gráficamente las tasas de conversión diarias de los dos grupos y describe la diferencia.**"
   ]
  },
  {
   "cell_type": "code",
   "execution_count": 18,
   "metadata": {},
   "outputs": [
    {
     "data": {
      "image/png": "[encoded data removed]",
      "text/plain": [
       "<Figure size 640x480 with 1 Axes>"
      ]
     },
     "metadata": {},
     "output_type": "display_data"
    }
   ],
   "source": [
    "\n",
    "pedidos_por_dia = pedidos.groupby(['date', 'group'])['visitorId'].count()\n",
    "pedidos_por_dia = pedidos_por_dia.reset_index()\n",
    "pedidos_por_dia.columns = ['date', 'group', 'pedidos']\n",
    "relacion_pedidos_visitas = visitas.merge(pedidos_por_dia, on=['date', 'group'], how='left')\n",
    "\n",
    "relacion_pedidos_visitas['tasa de conversion']= (relacion_pedidos_visitas['pedidos']/relacion_pedidos_visitas['visits'])*100\n",
    "\n",
    "sns.lineplot(x='date', y='tasa de conversion', data=relacion_pedidos_visitas, hue='group')\n",
    "plt.xticks(rotation=45)\n",
    "plt.show()\n",
    "\n"
   ]
  },
  {
   "cell_type": "markdown",
   "metadata": {},
   "source": [
    "<div class=\"alert alert-block alert-warning\">\n",
    "<b>Oportunidad de mejora</b> <a class=\"tocSkip\"></a><br>\n",
    "En la celda [18], la tasa de conversión se calculó como <code>pedidos/visitas</code> por día. Esto es válido si usamos pedidos como aproximación a compradores, pero cuando un usuario puede hacer más de un pedido, esa métrica tiende a inflarse. Para una conversión más alineada con “visitante → comprador”, conviene usar compradores únicos por día: <code>nunique(visitorId)</code> en lugar de <code>count</code>. También es útil rellenar ausencias con 0 pedidos para no perder días en el gráfico y, si hay mucha variación diaria, usar un promedio móvil para suavizar y comparar mejor.\n",
    "</div>"
   ]
  },
  {
   "cell_type": "markdown",
   "metadata": {},
   "source": [
    "\n",
    "**Conclusion:**\n",
    "\n",
    "Se puede observar en la grafica anterior que el rendimiento de los dos grupos varia mucho, hay dias que es mejor el grupo A y otros dias es mejor el grupo B, pero se puede identificar dos anomalias desde el 2019-08-05 al 2019-08-10 es muy superior el grupo B y tambien desde el dia  2019-08-29 el grupo B supera por mucho al grupo A.\n",
    "\n"
   ]
  },
  {
   "cell_type": "markdown",
   "metadata": {},
   "source": [
    "**5. Traza un gráfico de dispersión del número de pedidos por usuario.**"
   ]
  },
  {
   "cell_type": "code",
   "execution_count": 19,
   "metadata": {},
   "outputs": [
    {
     "data": {
      "image/png": "[encoded data removed]",
      "text/plain": [
       "<Figure size 640x480 with 1 Axes>"
      ]
     },
     "metadata": {},
     "output_type": "display_data"
    }
   ],
   "source": [
    "pedidos_por_usuario = pedidos.groupby('visitorId').agg({'transactionId':'count'}).reset_index()\n",
    "pedidos_por_usuario.columns = ['usuario', 'num_pedidos']  # Renombrar para claridad\n",
    "pedidos_por_usuario.plot(kind='scatter', x='usuario', y='num_pedidos')\n",
    "plt.show()"
   ]
  },
  {
   "cell_type": "markdown",
   "metadata": {},
   "source": [
    "**Conclusion:**\n",
    "\n",
    "En la grafica anterior no se puede identificar el usuario pero lo que si podemos ver es que la mayoria de los usuarios hacen 1 pedido, algunos hacen 2 pedidos y solamente 7 usuarios hacen 3 pedidos.\n",
    "\n"
   ]
  },
  {
   "cell_type": "markdown",
   "metadata": {},
   "source": [
    "**6. Calcula los percentiles 95 y 99 del número de pedidos por usuario. Define el punto en el cual un punto de datos se convierte en una anomalía.**"
   ]
  },
  {
   "cell_type": "code",
   "execution_count": 20,
   "metadata": {},
   "outputs": [
    {
     "name": "stdout",
     "output_type": "stream",
     "text": [
      "Percentiles 95/99: [1. 2.]\n"
     ]
    }
   ],
   "source": [
    "print(\"Percentiles 95/99:\",np.percentile(pedidos_por_usuario['num_pedidos'], [95, 99]))"
   ]
  },
  {
   "cell_type": "markdown",
   "metadata": {},
   "source": [
    "\n",
    "**Conclusion:**\n",
    "\n",
    "Menos del 5% de los usuarios realizaron mas de 1 pedido y menos de 1% realizo 2 pedidos, por lo tanto se puede decir que los que pidieron mas de un pedido son datos anormales. \n"
   ]
  },
  {
   "cell_type": "markdown",
   "metadata": {},
   "source": [
    "**7. Traza un gráfico de dispersión de los precios de los pedidos.**"
   ]
  },
  {
   "cell_type": "code",
   "execution_count": 21,
   "metadata": {},
   "outputs": [
    {
     "data": {
      "image/png": "[encoded data removed]",
      "text/plain": [
       "<Figure size 640x480 with 1 Axes>"
      ]
     },
     "metadata": {},
     "output_type": "display_data"
    }
   ],
   "source": [
    "precio_por_pedido=pedidos.groupby('transactionId').agg({'revenue':'sum'}).reset_index()\n",
    "precio_por_pedido.columns = ['pedidos', 'precio']  # Renombrar para claridad\n",
    "precio_por_pedido.plot(kind='scatter', x='pedidos', y='precio')\n",
    "plt.show()"
   ]
  },
  {
   "cell_type": "markdown",
   "metadata": {},
   "source": [
    "<div class=\"alert alert-block alert-success\">\n",
    "<b>Acierto o Fortaleza</b> <a class=\"tocSkip\"></a><br>\n",
    "En las celdas [21]-[22] identificaste outliers de precio por pedido con P95 y P99. Buen enfoque.\n",
    "</div>"
   ]
  },
  {
   "cell_type": "markdown",
   "metadata": {},
   "source": [
    "**Conclusion:**\n",
    "\n",
    "Se ve claramente en el grafico anterior que hay un dato anormal que esta alterando a los demas datos, provocando que la grafica no sea muy precisa."
   ]
  },
  {
   "cell_type": "markdown",
   "metadata": {},
   "source": [
    "**8. Calcula los percentiles 95 y 99 de los precios de los pedidos. Define el punto en el cual un punto de datos se convierte en una anomalía.**"
   ]
  },
  {
   "cell_type": "code",
   "execution_count": 22,
   "metadata": {},
   "outputs": [
    {
     "name": "stdout",
     "output_type": "stream",
     "text": [
      "Percentiles 95/99: [414.275 830.3  ]\n"
     ]
    }
   ],
   "source": [
    "print(\"Percentiles 95/99:\",np.percentile(precio_por_pedido['precio'], [95, 99]))"
   ]
  },
  {
   "cell_type": "markdown",
   "metadata": {},
   "source": [
    "\n",
    "**Conclusion:**\n",
    "\n",
    "Menos del 5% hacen una compra de mas de 414.2 y menos del 1% hace una compra de 830.3, por lo que se puede decir que los pedidos de mas de 415 son datos anormales.\n"
   ]
  },
  {
   "cell_type": "markdown",
   "metadata": {},
   "source": [
    "**9. Encuentra la significancia estadística de la diferencia en la conversión entre los grupos utilizando los datos en bruto.**"
   ]
  },
  {
   "cell_type": "code",
   "execution_count": 23,
   "metadata": {},
   "outputs": [
    {
     "name": "stdout",
     "output_type": "stream",
     "text": [
      "p-value:  0.05375707890473213\n",
      "No se rechazó la hipótesis nula: no es posible concluir que hay diferencias significativas entre los grupos comparados\n"
     ]
    }
   ],
   "source": [
    "tasa_conversion_A=relacion_pedidos_visitas.query('group==\"A\"')['tasa de conversion']\n",
    "tasa_conversion_B=relacion_pedidos_visitas.query('group==\"B\"')['tasa de conversion']\n",
    "\n",
    "alpha = .05 #nivel de significación\n",
    "\n",
    "results = st.mannwhitneyu(tasa_conversion_A, tasa_conversion_B)\n",
    "\n",
    "print('p-value: ', results.pvalue)\n",
    "\n",
    "if (results.pvalue < alpha):\n",
    "    print(\"Hipótesis nula rechazada: existen diferencias significativas entre las distribuciones de los dos grupos comparados\")\n",
    "else:\n",
    "    print(\"No se rechazó la hipótesis nula: no es posible concluir que hay diferencias significativas entre los grupos comparados\")"
   ]
  },
  {
   "cell_type": "markdown",
   "metadata": {},
   "source": [
    "\n",
    "**Conclusion:**\n",
    "\n",
    "Podemos concluir que aunque haya una diferencia en la tasa de conversion entre los grupos, no alcanza a marcar una diferencia estadistacamente significativa.\n",
    "\n",
    "Como observacion los resultados estan muy cerrados, todo influye de que valor de nivel de significancia consideres, si consideras un valor de 0.05 los resultados seran que no hay diferencias y si consideras un valor de 0.06 los resultados seran que si hay diferencia.\n",
    "\n"
   ]
  },
  {
   "cell_type": "markdown",
   "metadata": {},
   "source": [
    "**10. Encuentra la significancia estadística de la diferencia en el tamaño promedio de pedido entre los grupos utilizando los datos en bruto.**"
   ]
  },
  {
   "cell_type": "code",
   "execution_count": 24,
   "metadata": {},
   "outputs": [
    {
     "name": "stdout",
     "output_type": "stream",
     "text": [
      "p-value:  0.5689678091666772\n",
      "No se rechazó la hipótesis nula: no es posible concluir que hay diferencias significativas entre los grupos comparados\n"
     ]
    }
   ],
   "source": [
    "\n",
    "tamaño_promedio_A=pedidos.query('group==\"A\"')['revenue']\n",
    "tamaño_promedio_B=pedidos.query('group==\"B\"')['revenue']\n",
    "\n",
    "alpha = .05 #nivel de significación\n",
    "\n",
    "#para comparar si el tamaño promedio del grupo A es menor que el de grupo B\n",
    "results = st.mannwhitneyu(tamaño_promedio_A, tamaño_promedio_B,True, 'less')\n",
    "\n",
    "print('p-value: ', results.pvalue)\n",
    "\n",
    "if (results.pvalue < alpha):\n",
    "    print(\"Hipótesis nula rechazada: existen diferencias significativas entre las distribuciones de los dos grupos comparados\")\n",
    "else:\n",
    "\n",
    "    print(\"No se rechazó la hipótesis nula: no es posible concluir que hay diferencias significativas entre los grupos comparados\")\n"
   ]
  },
  {
   "cell_type": "markdown",
   "metadata": {},
   "source": [
    "\n",
    "**Conclusion:**\n",
    "\n",
    "Claramente podemos ver que no hubo una diferencia significativa.\n"
   ]
  },
  {
   "cell_type": "code",
   "execution_count": 25,
   "metadata": {},
   "outputs": [
    {
     "name": "stdout",
     "output_type": "stream",
     "text": [
      "Pedidos originales: 1016\n",
      "Pedidos eliminados: 129\n",
      "Pedidos filtrados: 887\n"
     ]
    },
    {
     "data": {
      "text/html": [
       "<div>\n",
       "<style scoped>\n",
       "    .dataframe tbody tr th:only-of-type {\n",
       "        vertical-align: middle;\n",
       "    }\n",
       "\n",
       "    .dataframe tbody tr th {\n",
       "        vertical-align: top;\n",
       "    }\n",
       "\n",
       "    .dataframe thead th {\n",
       "        text-align: right;\n",
       "    }\n",
       "</style>\n",
       "<table border=\"1\" class=\"dataframe\">\n",
       "  <thead>\n",
       "    <tr style=\"text-align: right;\">\n",
       "      <th></th>\n",
       "      <th>transactionId</th>\n",
       "      <th>visitorId</th>\n",
       "      <th>date</th>\n",
       "      <th>revenue</th>\n",
       "      <th>group</th>\n",
       "    </tr>\n",
       "  </thead>\n",
       "  <tbody>\n",
       "    <tr>\n",
       "      <th>0</th>\n",
       "      <td>3667963787</td>\n",
       "      <td>3312258926</td>\n",
       "      <td>2019-08-15</td>\n",
       "      <td>30.4</td>\n",
       "      <td>B</td>\n",
       "    </tr>\n",
       "    <tr>\n",
       "      <th>1</th>\n",
       "      <td>2804400009</td>\n",
       "      <td>3642806036</td>\n",
       "      <td>2019-08-15</td>\n",
       "      <td>15.2</td>\n",
       "      <td>B</td>\n",
       "    </tr>\n",
       "    <tr>\n",
       "      <th>3</th>\n",
       "      <td>3797467345</td>\n",
       "      <td>1196621759</td>\n",
       "      <td>2019-08-15</td>\n",
       "      <td>155.1</td>\n",
       "      <td>B</td>\n",
       "    </tr>\n",
       "    <tr>\n",
       "      <th>4</th>\n",
       "      <td>2282983706</td>\n",
       "      <td>2322279887</td>\n",
       "      <td>2019-08-15</td>\n",
       "      <td>40.5</td>\n",
       "      <td>B</td>\n",
       "    </tr>\n",
       "    <tr>\n",
       "      <th>5</th>\n",
       "      <td>182168103</td>\n",
       "      <td>935554773</td>\n",
       "      <td>2019-08-15</td>\n",
       "      <td>35.0</td>\n",
       "      <td>B</td>\n",
       "    </tr>\n",
       "    <tr>\n",
       "      <th>...</th>\n",
       "      <td>...</td>\n",
       "      <td>...</td>\n",
       "      <td>...</td>\n",
       "      <td>...</td>\n",
       "      <td>...</td>\n",
       "    </tr>\n",
       "    <tr>\n",
       "      <th>1190</th>\n",
       "      <td>38478481</td>\n",
       "      <td>1197745035</td>\n",
       "      <td>2019-08-14</td>\n",
       "      <td>135.3</td>\n",
       "      <td>B</td>\n",
       "    </tr>\n",
       "    <tr>\n",
       "      <th>1191</th>\n",
       "      <td>3592955527</td>\n",
       "      <td>608641596</td>\n",
       "      <td>2019-08-14</td>\n",
       "      <td>255.7</td>\n",
       "      <td>B</td>\n",
       "    </tr>\n",
       "    <tr>\n",
       "      <th>1192</th>\n",
       "      <td>2662137336</td>\n",
       "      <td>3733762160</td>\n",
       "      <td>2019-08-14</td>\n",
       "      <td>100.8</td>\n",
       "      <td>B</td>\n",
       "    </tr>\n",
       "    <tr>\n",
       "      <th>1193</th>\n",
       "      <td>2203539145</td>\n",
       "      <td>370388673</td>\n",
       "      <td>2019-08-14</td>\n",
       "      <td>50.1</td>\n",
       "      <td>A</td>\n",
       "    </tr>\n",
       "    <tr>\n",
       "      <th>1194</th>\n",
       "      <td>1807773912</td>\n",
       "      <td>573423106</td>\n",
       "      <td>2019-08-14</td>\n",
       "      <td>165.3</td>\n",
       "      <td>A</td>\n",
       "    </tr>\n",
       "  </tbody>\n",
       "</table>\n",
       "<p>887 rows × 5 columns</p>\n",
       "</div>"
      ],
      "text/plain": [
       "     transactionId   visitorId       date  revenue group\n",
       "0       3667963787  3312258926 2019-08-15     30.4     B\n",
       "1       2804400009  3642806036 2019-08-15     15.2     B\n",
       "3       3797467345  1196621759 2019-08-15    155.1     B\n",
       "4       2282983706  2322279887 2019-08-15     40.5     B\n",
       "5        182168103   935554773 2019-08-15     35.0     B\n",
       "...            ...         ...        ...      ...   ...\n",
       "1190      38478481  1197745035 2019-08-14    135.3     B\n",
       "1191    3592955527   608641596 2019-08-14    255.7     B\n",
       "1192    2662137336  3733762160 2019-08-14    100.8     B\n",
       "1193    2203539145   370388673 2019-08-14     50.1     A\n",
       "1194    1807773912   573423106 2019-08-14    165.3     A\n",
       "\n",
       "[887 rows x 5 columns]"
      ]
     },
     "execution_count": 25,
     "metadata": {},
     "output_type": "execute_result"
    }
   ],
   "source": [
    "# Se filtro usuarios con menos de 2 pedidos\n",
    "usuarios_normales = pedidos_por_usuario[pedidos_por_usuario['num_pedidos'] <= 1]['usuario']\n",
    "# Ahora se filtro los pedidos con menos de de 415\n",
    "pedidos_filtrados = pedidos[(pedidos['visitorId'].isin(usuarios_normales)) & \n",
    "    (pedidos['revenue'] <= 414.275)] \n",
    "\n",
    "print(f\"Pedidos originales: {len(pedidos)}\")\n",
    "print(f\"Pedidos eliminados: {len(pedidos) - len(pedidos_filtrados)}\")\n",
    "print(f\"Pedidos filtrados: {len(pedidos_filtrados)}\")\n",
    "pedidos_filtrados"
   ]
  },
  {
   "cell_type": "markdown",
   "metadata": {},
   "source": [
    "<div class=\"alert alert-block alert-success\">\n",
    "<b>Acierto o fortaleza</b> <a class=\"tocSkip\"></a><br>\n",
    "En la celda [25], el filtrado de usuarios (por número de pedidos) y de pedidos (por precio) está bien documentado: reportaste originales, eliminados y filtrados. Esa trazabilidad es excelente, porque cualquier lector puede reproducir el recorte y entender su impacto inmediato en el tamaño muestral. Mantener este hábito da mucha confianza en el proceso analítico.\n",
    "</div>"
   ]
  },
  {
   "cell_type": "code",
   "execution_count": 26,
   "metadata": {},
   "outputs": [
    {
     "data": {
      "text/html": [
       "<div>\n",
       "<style scoped>\n",
       "    .dataframe tbody tr th:only-of-type {\n",
       "        vertical-align: middle;\n",
       "    }\n",
       "\n",
       "    .dataframe tbody tr th {\n",
       "        vertical-align: top;\n",
       "    }\n",
       "\n",
       "    .dataframe thead th {\n",
       "        text-align: right;\n",
       "    }\n",
       "</style>\n",
       "<table border=\"1\" class=\"dataframe\">\n",
       "  <thead>\n",
       "    <tr style=\"text-align: right;\">\n",
       "      <th></th>\n",
       "      <th>date</th>\n",
       "      <th>group</th>\n",
       "      <th>visits</th>\n",
       "      <th>pedidos</th>\n",
       "      <th>tasa de conversion</th>\n",
       "    </tr>\n",
       "  </thead>\n",
       "  <tbody>\n",
       "    <tr>\n",
       "      <th>0</th>\n",
       "      <td>2019-08-01</td>\n",
       "      <td>A</td>\n",
       "      <td>719</td>\n",
       "      <td>13</td>\n",
       "      <td>1.808067</td>\n",
       "    </tr>\n",
       "    <tr>\n",
       "      <th>1</th>\n",
       "      <td>2019-08-02</td>\n",
       "      <td>A</td>\n",
       "      <td>619</td>\n",
       "      <td>15</td>\n",
       "      <td>2.423263</td>\n",
       "    </tr>\n",
       "    <tr>\n",
       "      <th>2</th>\n",
       "      <td>2019-08-03</td>\n",
       "      <td>A</td>\n",
       "      <td>507</td>\n",
       "      <td>24</td>\n",
       "      <td>4.733728</td>\n",
       "    </tr>\n",
       "    <tr>\n",
       "      <th>3</th>\n",
       "      <td>2019-08-04</td>\n",
       "      <td>A</td>\n",
       "      <td>717</td>\n",
       "      <td>10</td>\n",
       "      <td>1.394700</td>\n",
       "    </tr>\n",
       "    <tr>\n",
       "      <th>4</th>\n",
       "      <td>2019-08-05</td>\n",
       "      <td>A</td>\n",
       "      <td>756</td>\n",
       "      <td>20</td>\n",
       "      <td>2.645503</td>\n",
       "    </tr>\n",
       "    <tr>\n",
       "      <th>...</th>\n",
       "      <td>...</td>\n",
       "      <td>...</td>\n",
       "      <td>...</td>\n",
       "      <td>...</td>\n",
       "      <td>...</td>\n",
       "    </tr>\n",
       "    <tr>\n",
       "      <th>57</th>\n",
       "      <td>2019-08-27</td>\n",
       "      <td>B</td>\n",
       "      <td>720</td>\n",
       "      <td>9</td>\n",
       "      <td>1.250000</td>\n",
       "    </tr>\n",
       "    <tr>\n",
       "      <th>58</th>\n",
       "      <td>2019-08-28</td>\n",
       "      <td>B</td>\n",
       "      <td>654</td>\n",
       "      <td>20</td>\n",
       "      <td>3.058104</td>\n",
       "    </tr>\n",
       "    <tr>\n",
       "      <th>59</th>\n",
       "      <td>2019-08-29</td>\n",
       "      <td>B</td>\n",
       "      <td>531</td>\n",
       "      <td>14</td>\n",
       "      <td>2.636535</td>\n",
       "    </tr>\n",
       "    <tr>\n",
       "      <th>60</th>\n",
       "      <td>2019-08-30</td>\n",
       "      <td>B</td>\n",
       "      <td>490</td>\n",
       "      <td>18</td>\n",
       "      <td>3.673469</td>\n",
       "    </tr>\n",
       "    <tr>\n",
       "      <th>61</th>\n",
       "      <td>2019-08-31</td>\n",
       "      <td>B</td>\n",
       "      <td>718</td>\n",
       "      <td>16</td>\n",
       "      <td>2.228412</td>\n",
       "    </tr>\n",
       "  </tbody>\n",
       "</table>\n",
       "<p>62 rows × 5 columns</p>\n",
       "</div>"
      ],
      "text/plain": [
       "         date group  visits  pedidos  tasa de conversion\n",
       "0  2019-08-01     A     719       13            1.808067\n",
       "1  2019-08-02     A     619       15            2.423263\n",
       "2  2019-08-03     A     507       24            4.733728\n",
       "3  2019-08-04     A     717       10            1.394700\n",
       "4  2019-08-05     A     756       20            2.645503\n",
       "..        ...   ...     ...      ...                 ...\n",
       "57 2019-08-27     B     720        9            1.250000\n",
       "58 2019-08-28     B     654       20            3.058104\n",
       "59 2019-08-29     B     531       14            2.636535\n",
       "60 2019-08-30     B     490       18            3.673469\n",
       "61 2019-08-31     B     718       16            2.228412\n",
       "\n",
       "[62 rows x 5 columns]"
      ]
     },
     "execution_count": 26,
     "metadata": {},
     "output_type": "execute_result"
    }
   ],
   "source": [
    "# Calculo de la tasa de conversión con los datos filtrados\n",
    "pedidos_por_dia_filtrados = pedidos_filtrados.groupby(['date', 'group'])['visitorId'].count()\n",
    "pedidos_por_dia_filtrados = pedidos_por_dia_filtrados.reset_index()\n",
    "pedidos_por_dia_filtrados.columns = ['date', 'group', 'pedidos']\n",
    "relacion_pedidos_visitas_filtrados = visitas.merge(pedidos_por_dia_filtrados, on=['date', 'group'], how='left')\n",
    "\n",
    "relacion_pedidos_visitas_filtrados['tasa de conversion']= (relacion_pedidos_visitas_filtrados['pedidos']/relacion_pedidos_visitas_filtrados['visits'])*100\n",
    "relacion_pedidos_visitas_filtrados\n"
   ]
  },
  {
   "cell_type": "markdown",
   "metadata": {},
   "source": [
    "**11. Encuentra la significancia estadística de la diferencia en la conversión entre los grupos utilizando los datos filtrados.**"
   ]
  },
  {
   "cell_type": "code",
   "execution_count": 27,
   "metadata": {},
   "outputs": [
    {
     "name": "stdout",
     "output_type": "stream",
     "text": [
      "p-value:  0.043349564671668755\n",
      "Hipótesis nula rechazada: existen diferencias significativas entre las distribuciones de los dos grupos comparados\n"
     ]
    }
   ],
   "source": [
    "tasa_conversion_A_filtrado=relacion_pedidos_visitas_filtrados.query('group==\"A\"')['tasa de conversion']\n",
    "tasa_conversion_B_filtrado=relacion_pedidos_visitas_filtrados.query('group==\"B\"')['tasa de conversion']\n",
    "\n",
    "alpha = .05 #nivel de significación\n",
    "\n",
    "results = st.mannwhitneyu(tasa_conversion_A_filtrado, tasa_conversion_B_filtrado)\n",
    "\n",
    "print('p-value: ', results.pvalue)\n",
    "\n",
    "if (results.pvalue < alpha):\n",
    "    print(\"Hipótesis nula rechazada: existen diferencias significativas entre las distribuciones de los dos grupos comparados\")\n",
    "else:\n",
    "    print(\"No se rechazó la hipótesis nula: no es posible concluir que hay diferencias significativas entre los grupos comparados\")"
   ]
  },
  {
   "cell_type": "markdown",
   "metadata": {},
   "source": [
    "<div class=\"alert alert-block alert-warning\">\n",
    "<b>Oportunidad de mejora</b> <a class=\"tocSkip\"></a><br>\n",
    "Tras filtrar (celda [27]) la conversión resulta significativa. Es un hallazgo interesante, pero conviene verificar que el resultado no dependa solo del umbral elegido. Dos ideas sencillas: 1) repetir el test con compradores únicos y un test de proporciones; 2) probar cortes alternativos (p. ej., P97 o P99) para ver estabilidad. Si el resultado se mantiene, la conclusión será más sólida y defendible.\n",
    "</div>"
   ]
  },
  {
   "cell_type": "markdown",
   "metadata": {},
   "source": [
    "\n",
    "**Conclusion:**\n",
    "\n",
    "En este caso el resultado fue diferente, eliminando los usuarios y los pedidos anomalos la misma prueba que se hizo con la tasa de conversion resulto que si hay diferencia entre los grupos.\n",
    "\n"
   ]
  },
  {
   "cell_type": "markdown",
   "metadata": {},
   "source": [
    "**12. Encuentra la significancia estadística de la diferencia en el tamaño promedio de pedido entre los grupos utilizando los datos filtrados.**"
   ]
  },
  {
   "cell_type": "code",
   "execution_count": 28,
   "metadata": {},
   "outputs": [
    {
     "name": "stdout",
     "output_type": "stream",
     "text": [
      "p-value:  0.6145067339752425\n",
      "No se rechazó la hipótesis nula: no es posible concluir que hay diferencias significativas entre los grupos comparados\n"
     ]
    }
   ],
   "source": [
    "tamaño_promedio_A_filtrado=pedidos_filtrados.query('group==\"A\"')['revenue']\n",
    "tamaño_promedio_B_filtrado=pedidos_filtrados.query('group==\"B\"')['revenue']\n",
    "\n",
    "alpha = .05 #nivel de significación\n",
    "\n",
    "#para comparar si el tamaño promedio del grupo A es menor que el de grupo B\n",
    "results = st.mannwhitneyu(tamaño_promedio_A_filtrado, tamaño_promedio_B_filtrado,True, 'less')\n",
    "\n",
    "print('p-value: ', results.pvalue)\n",
    "\n",
    "if (results.pvalue < alpha):\n",
    "    print(\"Hipótesis nula rechazada: existen diferencias significativas entre las distribuciones de los dos grupos comparados\")\n",
    "else:\n",
    "\n",
    "    print(\"No se rechazó la hipótesis nula: no es posible concluir que hay diferencias significativas entre los grupos comparados\")\n"
   ]
  },
  {
   "cell_type": "markdown",
   "metadata": {},
   "source": [
    "<div class=\"alert alert-block alert-success\">\n",
    "<b>Acierto o fortaleza</b> <a class=\"tocSkip\"></a><br>\n",
    "En la celda [28], comprobaste que el resultado del tamaño de pedido se mantiene tanto con datos brutos como filtrados. Esa consistencia es una buena señal: sugiere que la ausencia de diferencia en AOV no depende de los outliers. Como paso adicional, podrías reportar intervalos de confianza (por ejemplo, con bootstrap) para mostrar el rango plausible de la diferencia, lo que redondea una interpretación clara para negocio.\n",
    "</div>"
   ]
  },
  {
   "cell_type": "markdown",
   "metadata": {},
   "source": [
    "**Conclusion:**\n",
    "\n",
    "Con la prueba de los tamaños promedio de pedido no hubo cambios, con los datos brutos o con los datos filtrados dio el mismo resultado, no hay diferencia significativa.\n"
   ]
  },
  {
   "cell_type": "markdown",
   "metadata": {},
   "source": [
    "**13. Toma una decisión basada en los resultados de la prueba. Las decisiones posibles son: 1. Parar la prueba, considerar a uno de los grupos como líder. 2. Parar la prueba, concluir que no hay diferencia entre los grupos. 3. Continuar la prueba.**"
   ]
  },
  {
   "cell_type": "markdown",
   "metadata": {},
   "source": [
    "Para este punto hay que considerar dos cosas:\n",
    "\n",
    "    1. Si nos interesa mas el marketing tenemos que considerar los datos filtrados ya que con estos datos si nos dio como resultado que los usuarios tienen una tasa de conversion significativa, y por lo tanto podemos decidir parar la prueba, considerar a uno de los grupos como líder.\n",
    "    \n",
    "    2. Si nos interesa mas las ventas cualquiera de los dos datos (brutos o filtrados) el resultado sera lo mismo, por lo tanto podemos decidir parar la prueba, concluir que no hay diferencia entre los grupos."
   ]
  },
  {
   "cell_type": "markdown",
   "metadata": {},
   "source": [
    "<div class=\"alert alert-block alert-success\">\n",
    "<b>Comentario final</b> <a class=\"tocSkip\"></a><br>\n",
    "¡Muy buen trabajo, Edgar! A lo largo del proyecto mostraste fortalezas muy claras:<br><br>\n",
    "• Organización limpia de librerías y alias estándar (celda [1]).<br>\n",
    "• Lectura de datos cuidando separadores y formatos (celda [2]).<br>\n",
    "• Conversión de tipos pertinente, especialmente fechas e IDs (celda [4]).<br>\n",
    "• Detección y eliminación de visitantes en ambos grupos, evitando contaminación (celdas [5]-[6]).<br>\n",
    "• Verificación consistente del estado de los DataFrames con <code>info()</code> (celdas [3], [4], [8]).<br>\n",
    "• Construcción clara de los frameworks ICE y RICE, con ranking ordenado (celdas [10]-[12]).<br>\n",
    "• Integración de visitas y pedidos para obtener métricas diarias (celda [18]).<br>\n",
    "• Identificación de outliers mediante percentiles 95/99 de pedidos y precios (celdas [20], [22]).<br>\n",
    "• Uso de Mann–Whitney para comparar tamaños de pedido, apropiado para distribuciones no normales (celdas [24], [28]).<br>\n",
    "• Repetición del análisis con datos filtrados y contraste contra datos brutos, mostrando criterio de robustez (celdas [25]-[28]).<br>\n",
    "• Reporte transparente del impacto del filtrado en el tamaño muestral (celda [25]).<br>\n",
    "• Conclusiones cautas basadas en p-values y nivel alfa declarado (celdas [23], [24], [27], [28]).<br>\n",
    "• Gráficos que, aunque mejorables, ya ofrecen una primera lectura de tendencias (celdas [15]-[18], [19], [21]).<br>\n",
    "• Observación atenta de anomalías temporales en las tasas de conversión (comentario en torno a [18]).<br>\n",
    "• Estructura del notebook por partes (hipótesis y test A/B), facilitando el seguimiento del lector.<br>\n",
    "<br>\n",
    "Con estos aciertos, estás muy cerca de una versión excelente. Afinando los puntos señalados (especialmente métricas acumuladas y pruebas específicas para proporciones), tus conclusiones quedarán aún más sólidas. ¡Felicidades!\n",
    "</div>"
   ]
  },
  {
   "cell_type": "code",
   "execution_count": null,
   "metadata": {},
   "outputs": [],
   "source": []
  }
 ],
 "metadata": {
  "kernelspec": {
   "display_name": "Python 3 (ipykernel)",
   "language": "python",
   "name": "python3"
  },
  "language_info": {
   "codemirror_mode": {
    "name": "ipython",
    "version": 3
   },
   "file_extension": ".py",
   "mimetype": "text/x-python",
   "name": "python",
   "nbconvert_exporter": "python",
   "pygments_lexer": "ipython3",
   "version": "3.9.23"
  }
 },
 "nbformat": 4,
 "nbformat_minor": 4
}
